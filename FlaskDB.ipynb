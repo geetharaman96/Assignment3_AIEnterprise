{
  "nbformat": 4,
  "nbformat_minor": 0,
  "metadata": {
    "colab": {
      "provenance": []
    },
    "kernelspec": {
      "name": "python3",
      "display_name": "Python 3"
    },
    "language_info": {
      "name": "python"
    }
  },
  "cells": [
    {
      "cell_type": "code",
      "execution_count": null,
      "metadata": {
        "colab": {
          "base_uri": "https://localhost:8080/"
        },
        "id": "AgZK3PZ2TPlB",
        "outputId": "8c7f9769-0e68-45bd-8bd8-8c1e333dfca6"
      },
      "outputs": [
        {
          "output_type": "stream",
          "name": "stdout",
          "text": [
            "Requirement already satisfied: flask in /usr/local/lib/python3.10/dist-packages (2.2.5)\n",
            "Requirement already satisfied: Werkzeug>=2.2.2 in /usr/local/lib/python3.10/dist-packages (from flask) (2.3.6)\n",
            "Requirement already satisfied: Jinja2>=3.0 in /usr/local/lib/python3.10/dist-packages (from flask) (3.1.2)\n",
            "Requirement already satisfied: itsdangerous>=2.0 in /usr/local/lib/python3.10/dist-packages (from flask) (2.1.2)\n",
            "Requirement already satisfied: click>=8.0 in /usr/local/lib/python3.10/dist-packages (from flask) (8.1.4)\n",
            "Requirement already satisfied: MarkupSafe>=2.0 in /usr/local/lib/python3.10/dist-packages (from Jinja2>=3.0->flask) (2.1.3)\n"
          ]
        }
      ],
      "source": [
        "!pip install flask\n",
        "from flask import Flask, jsonify, request\n",
        "import sqlite3\n"
      ]
    },
    {
      "cell_type": "code",
      "source": [
        "app = Flask(__name__)\n",
        "db_path = '/content/student.db'  # Set the path for the SQLite database file\n",
        "\n",
        "# Create the student table in the SQLite database\n",
        "conn = sqlite3.connect(db_path)\n",
        "cursor = conn.cursor()\n",
        "cursor.execute('''\n",
        "    CREATE TABLE IF NOT EXISTS students (\n",
        "        student_id INTEGER PRIMARY KEY AUTOINCREMENT,\n",
        "        first_name TEXT NOT NULL,\n",
        "        last_name TEXT NOT NULL,\n",
        "        dob TEXT NOT NULL,\n",
        "        amount_due REAL\n",
        "    )\n",
        "''')\n",
        "conn.commit()\n",
        "conn.close()\n"
      ],
      "metadata": {
        "id": "wyV_YTeLTajy"
      },
      "execution_count": null,
      "outputs": []
    },
    {
      "cell_type": "code",
      "source": [
        "# Create a new student record\n",
        "@app.route('/students', methods=['POST'])\n",
        "def create_student():\n",
        "    student_data = request.get_json()\n",
        "    first_name = student_data['first_name']\n",
        "    last_name = student_data['last_name']\n",
        "    dob = student_data['dob']\n",
        "    amount_due = student_data['amount_due']\n",
        "\n",
        "    conn = sqlite3.connect(db_path)\n",
        "    cursor = conn.cursor()\n",
        "    cursor.execute('INSERT INTO students (first_name, last_name, dob, amount_due) VALUES (?, ?, ?, ?)',\n",
        "                   (first_name, last_name, dob, amount_due))\n",
        "    conn.commit()\n",
        "    conn.close()\n",
        "\n",
        "    return jsonify({'message': 'Student record created successfully'}), 201\n",
        "\n",
        "# Get a specific student record by student_id\n",
        "@app.route('/students/<int:student_id>', methods=['GET'])\n",
        "def get_student(student_id):\n",
        "    conn = sqlite3.connect(db_path)\n",
        "    cursor = conn.cursor()\n",
        "    cursor.execute('SELECT * FROM students WHERE student_id = ?', (student_id,))\n",
        "    student = cursor.fetchone()\n",
        "    conn.close()\n",
        "\n",
        "    if student is None:\n",
        "        return jsonify({'message': 'Student not found'}), 404\n",
        "\n",
        "    student_data = {\n",
        "        'student_id': student[0],\n",
        "        'first_name': student[1],\n",
        "        'last_name': student[2],\n",
        "        'dob': student[3],\n",
        "        'amount_due': student[4]\n",
        "    }\n",
        "\n",
        "    return jsonify(student_data), 200\n",
        "\n",
        "# Update an existing student record\n",
        "@app.route('/students/<int:student_id>', methods=['PUT'])\n",
        "def update_student(student_id):\n",
        "    student_data = request.get_json()\n",
        "    first_name = student_data['Ray']\n",
        "    last_name = student_data['Wong']\n",
        "    dob = student_data['9-June-2000']\n",
        "    amount_due = student_data['199.99']\n",
        "\n",
        "    conn = sqlite3.connect(db_path)\n",
        "    cursor = conn.cursor()\n",
        "    cursor.execute('UPDATE students SET first_name = ?, last_name = ?, dob = ?, amount_due = ? WHERE student_id = ?',\n",
        "                   (first_name, last_name, dob, amount_due, student_id))\n",
        "    conn.commit()\n",
        "    conn.close()\n",
        "\n",
        "    return jsonify({'message': 'Student record updated successfully'}), 200\n",
        "\n",
        "# Delete a student record\n",
        "@app.route('/students/<int:student_id>', methods=['DELETE'])\n",
        "def delete_student(student_id):\n",
        "    conn = sqlite3.connect(db_path)\n",
        "    cursor = conn.cursor()\n",
        "    cursor.execute('DELETE FROM students WHERE student_id = ?', (student_id,))\n",
        "    conn.commit()\n",
        "    conn.close()\n",
        "\n",
        "    return jsonify({'message': 'Student record deleted successfully'}), 200\n",
        "\n",
        "# Get all student records\n",
        "@app.route('/students', methods=['GET'])\n",
        "def get_all_students():\n",
        "    conn = sqlite3.connect(db_path)\n",
        "    cursor = conn.cursor()\n",
        "    cursor.execute('SELECT * FROM students')\n",
        "    students = cursor.fetchall()\n",
        "    conn.close()\n",
        "\n",
        "    student_list = []\n",
        "    for student in students:\n",
        "        student_data = {\n",
        "            'student_id': student[0],\n",
        "            'first_name': student[1],\n",
        "            'last_name': student[2],\n",
        "            'dob': student[3],\n",
        "            'amount_due': student[4]\n",
        "        }\n",
        "        student_list.append(student_data)\n",
        "\n",
        "    return jsonify(student_list), 200\n"
      ],
      "metadata": {
        "id": "x25RegR_TlU6"
      },
      "execution_count": null,
      "outputs": []
    },
    {
      "cell_type": "code",
      "source": [
        "if __name__ == '__main__':\n",
        "    app.run()\n"
      ],
      "metadata": {
        "colab": {
          "base_uri": "https://localhost:8080/"
        },
        "id": "JdnMqpGZWMgU",
        "outputId": "39d1d830-50f8-443b-c25c-2386c35f9e77"
      },
      "execution_count": null,
      "outputs": [
        {
          "output_type": "stream",
          "name": "stdout",
          "text": [
            " * Serving Flask app '__main__'\n",
            " * Debug mode: off\n"
          ]
        },
        {
          "output_type": "stream",
          "name": "stderr",
          "text": [
            "INFO:werkzeug:\u001b[31m\u001b[1mWARNING: This is a development server. Do not use it in a production deployment. Use a production WSGI server instead.\u001b[0m\n",
            " * Running on http://127.0.0.1:5000\n",
            "INFO:werkzeug:\u001b[33mPress CTRL+C to quit\u001b[0m\n"
          ]
        }
      ]
    }
  ]
}